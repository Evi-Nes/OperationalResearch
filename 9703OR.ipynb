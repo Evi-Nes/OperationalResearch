{
 "cells": [
  {
   "cell_type": "code",
   "execution_count": 10,
   "metadata": {},
   "outputs": [],
   "source": [
    "import matplotlib.pyplot as plt\n",
    "import matplotlib as mpl\n",
    "import pandas as pd\n",
    "\n",
    "import shutil\n",
    "import sys\n",
    "import os.path\n",
    "\n",
    "import gurobipy\n",
    "\n",
    "from pyomo.environ import *\n",
    "from pyomo.gdp import *"
   ]
  },
  {
   "cell_type": "code",
   "execution_count": 11,
   "metadata": {},
   "outputs": [],
   "source": [
    "TASKS = {\n",
    "    ('Ταπ_1','Μπλε')   : {'dur': 45, 'prec': None},\n",
    "    ('Ταπ_1','Κίτρινο') : {'dur': 10, 'prec': ('Ταπ_1','Μπλε')},\n",
    "    ('Ταπ_2','Μπλε')   : {'dur': 20, 'prec': ('Ταπ_2','Πράσινο')},\n",
    "    ('Ταπ_2','Πράσινο')  : {'dur': 10, 'prec': None},\n",
    "    ('Ταπ_2','Κίτρινο') : {'dur': 34, 'prec': ('Ταπ_2','Μπλε')},\n",
    "    ('Ταπ_3','Μπλε')   : {'dur': 12, 'prec': ('Ταπ_3','Κίτρινο')},\n",
    "    ('Ταπ_3','Πράσινο')  : {'dur': 17, 'prec': ('Ταπ_3','Μπλε')},\n",
    "    ('Ταπ_3','Κίτρινο') : {'dur': 28, 'prec': None},   \n",
    "}"
   ]
  },
  {
   "cell_type": "code",
   "execution_count": 12,
   "metadata": {
    "collapsed": true
   },
   "outputs": [
    {
     "output_type": "execute_result",
     "data": {
      "text/plain": [
       "<pyomo.core.base.PyomoModel.ConcreteModel at 0x223d5de2590>"
      ]
     },
     "metadata": {},
     "execution_count": 12
    }
   ],
   "source": [
    "def jobshop_model(TASKS):\n",
    "    \n",
    "    model = ConcreteModel()\n",
    "\n",
    "    model.TASKS = Set(initialize = TASKS.keys(), dimen=2)\n",
    "    model.JOBS = Set(initialize = list(set([j for (j,m) in model.TASKS])))\n",
    "    model.MACHINES = Set(initialize = list(set([m for (j,m) in model.TASKS])))\n",
    "    \n",
    "    model.TASKORDER = Set(initialize = model.TASKS * model.TASKS, dimen=4, \n",
    "        filter = lambda model, j, m, k, n: (k,n) == TASKS[(j,m)]['prec'])\n",
    "    \n",
    "    model.DISJUNCTIONS = Set(initialize = model.JOBS * model.JOBS * model.MACHINES, dimen=3,\n",
    "        filter = lambda model, j, k, m: j < k and (j,m) in model.TASKS and (k,m) in model.TASKS)\n",
    "    \n",
    "    model.dur = Param(model.TASKS, initialize=lambda model, j, m: TASKS[(j,m)]['dur'])\n",
    "\n",
    "    ub = sum([model.dur[j, m] for (j,m) in model.TASKS])\n",
    "    \n",
    "    # δημιουργώ μεταβλητές απόφασης\n",
    "    model.makespan = Var(bounds=(0, ub))\n",
    "    model.start = Var(model.TASKS, bounds=(0, ub))\n",
    "    \n",
    "    model.objective = Objective(expr = model.makespan, sense = minimize)\n",
    "\n",
    "    model.finish = Constraint(model.TASKS, rule=lambda model, j, m:  \n",
    "        model.start[j,m] + model.dur[j,m] <= model.makespan)\n",
    "    \n",
    "    model.preceding = Constraint(model.TASKORDER, rule=lambda model, j, m, k, n: \n",
    "        model.start[k,n] + model.dur[k,n] <= model.start[j,m])\n",
    "    \n",
    "    model.disjunctions = Disjunction(model.DISJUNCTIONS, rule=lambda model,j,k,m:\n",
    "        [model.start[j,m] + model.dur[j,m] <= model.start[k,m], \n",
    "         model.start[k,m] + model.dur[k,m] <= model.start[j,m]])\n",
    "    \n",
    "    TransformationFactory('gdp.hull').apply_to(model)\n",
    "    return model\n",
    "\n",
    "jobshop_model(TASKS)"
   ]
  },
  {
   "cell_type": "code",
   "execution_count": 13,
   "metadata": {},
   "outputs": [
    {
     "output_type": "execute_result",
     "data": {
      "text/plain": [
       "[{'Job': 'Ταπ_1',\n",
       "  'Machine': 'Μπλε',\n",
       "  'Start': 42.0,\n",
       "  'Duration': 45,\n",
       "  'Finish': 87.0},\n",
       " {'Job': 'Ταπ_1',\n",
       "  'Machine': 'Κίτρινο',\n",
       "  'Start': 87.0,\n",
       "  'Duration': 10,\n",
       "  'Finish': 97.0},\n",
       " {'Job': 'Ταπ_2',\n",
       "  'Machine': 'Μπλε',\n",
       "  'Start': 10.0,\n",
       "  'Duration': 20,\n",
       "  'Finish': 30.0},\n",
       " {'Job': 'Ταπ_2',\n",
       "  'Machine': 'Πράσινο',\n",
       "  'Start': 0.0,\n",
       "  'Duration': 10,\n",
       "  'Finish': 10.0},\n",
       " {'Job': 'Ταπ_2',\n",
       "  'Machine': 'Κίτρινο',\n",
       "  'Start': 30.0,\n",
       "  'Duration': 34,\n",
       "  'Finish': 64.0},\n",
       " {'Job': 'Ταπ_3',\n",
       "  'Machine': 'Μπλε',\n",
       "  'Start': 30.0,\n",
       "  'Duration': 12,\n",
       "  'Finish': 42.0},\n",
       " {'Job': 'Ταπ_3',\n",
       "  'Machine': 'Πράσινο',\n",
       "  'Start': 42.0,\n",
       "  'Duration': 17,\n",
       "  'Finish': 59.0},\n",
       " {'Job': 'Ταπ_3',\n",
       "  'Machine': 'Κίτρινο',\n",
       "  'Start': 0.0,\n",
       "  'Duration': 28,\n",
       "  'Finish': 28.0}]"
      ]
     },
     "metadata": {},
     "execution_count": 13
    }
   ],
   "source": [
    "def jobshop_solve(model):\n",
    "    SolverFactory('gurobi').solve(model)\n",
    "    \n",
    "    results = [{'Job': j,\n",
    "                'Machine': m,\n",
    "                'Start': model.start[j, m](), \n",
    "                'Duration': model.dur[j,m], \n",
    "                'Finish': model.start[(j, m)]() + model.dur[j,m]}\n",
    "               for j,m in model.TASKS]\n",
    "    return results\n",
    "\n",
    "def jobshop(TASKS):\n",
    "    return jobshop_solve(jobshop_model(TASKS))\n",
    "\n",
    "results = jobshop(TASKS)\n",
    "results"
   ]
  },
  {
   "cell_type": "code",
   "execution_count": 14,
   "metadata": {},
   "outputs": [
    {
     "output_type": "stream",
     "name": "stdout",
     "text": [
      "\nSchedule by Job\n               Start  Duration  Finish\nJob   Machine                         \nΤαπ_1 Μπλε      42.0        45    87.0\n      Κίτρινο   87.0        10    97.0\nΤαπ_2 Πράσινο    0.0        10    10.0\n      Μπλε      10.0        20    30.0\n      Κίτρινο   30.0        34    64.0\nΤαπ_3 Κίτρινο    0.0        28    28.0\n      Μπλε      30.0        12    42.0\n      Πράσινο   42.0        17    59.0\n\nSchedule by Machine\n               Start  Duration  Finish\nMachine Job                           \nΚίτρινο Ταπ_3    0.0        28    28.0\n        Ταπ_2   30.0        34    64.0\n        Ταπ_1   87.0        10    97.0\nΜπλε    Ταπ_2   10.0        20    30.0\n        Ταπ_3   30.0        12    42.0\n        Ταπ_1   42.0        45    87.0\nΠράσινο Ταπ_2    0.0        10    10.0\n        Ταπ_3   42.0        17    59.0\n"
     ]
    }
   ],
   "source": [
    "schedule = pd.DataFrame(results)\n",
    "\n",
    "print('\\nSchedule by Job')\n",
    "print(schedule.sort_values(by=['Job','Start']).set_index(['Job', 'Machine']))\n",
    "\n",
    "print('\\nSchedule by Machine')\n",
    "print(schedule.sort_values(by=['Machine','Start']).set_index(['Machine', 'Job']))"
   ]
  }
 ],
 "metadata": {
  "kernelspec": {
   "name": "python3",
   "display_name": "Python 3.8.3 64-bit",
   "metadata": {
    "interpreter": {
     "hash": "436781cdaaa49796c8ccde713ecefcd9026b295f171fc4e55855ff078ca64f24"
    }
   }
  },
  "language_info": {
   "codemirror_mode": {
    "name": "ipython",
    "version": 2
   },
   "file_extension": ".py",
   "mimetype": "text/x-python",
   "name": "python",
   "nbconvert_exporter": "python",
   "pygments_lexer": "ipython2",
   "version": "3.8.3"
  }
 },
 "nbformat": 4,
 "nbformat_minor": 0
}
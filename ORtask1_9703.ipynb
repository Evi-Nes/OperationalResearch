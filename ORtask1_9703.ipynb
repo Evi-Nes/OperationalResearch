{
 "metadata": {
  "language_info": {
   "codemirror_mode": {
    "name": "ipython",
    "version": 3
   },
   "file_extension": ".py",
   "mimetype": "text/x-python",
   "name": "python",
   "nbconvert_exporter": "python",
   "pygments_lexer": "ipython3",
   "version": "3.8.3-final"
  },
  "orig_nbformat": 2,
  "kernelspec": {
   "name": "python3",
   "display_name": "Python 3.8.3 64-bit",
   "metadata": {
    "interpreter": {
     "hash": "436781cdaaa49796c8ccde713ecefcd9026b295f171fc4e55855ff078ca64f24"
    }
   }
  }
 },
 "nbformat": 4,
 "nbformat_minor": 2,
 "cells": [
  {
   "source": [
    "Εκφώνηση Ερωτήματος 1\n",
    "*******\n",
    "Το εργοστάσιο ῾῾Ουράνιο Τόξο᾿᾿, μεταξύ των διαφόρων χρωμάτων και σχετικών προϊόντων που παράγει,\n",
    "παράγει και πέντε διαφορετικές ειδικές αποχρώσεις χρωμάτων (με ονομασίες: 1, 2, 3, 4 και 5) για\n",
    "μεγάλους πελάτες της, για τις οποίες η ζήτηση είναι σταθερή. Κάθε τέτοια ειδική απόχρωση προκύπτει\n",
    "από ένα συγκεκριμένο μηχάνημα ανάμιξης το οποίο θα πρέπει να καθαρίζεται πριν την παραγωγή της\n",
    "επόμενης (διαφορετικής) απόχρωσης. Η διαδικασία ανάμιξης για κάθε απόχρωση από το 1 έως το 5\n",
    "διαρκεί 40, 35, 45, 32 και 50 λεπτά, αντίστοιχα. Οι χρόνοι καθαρισμού του παραπάνω μηχανήματος\n",
    "εξαρτώνται τόσο από τον τύπο όσο και από την απόχρωση των χρωμάτων. Για παράδειγμα, ένα χρώμα\n",
    "που είναι βασισμένο σε λάδι απαιτεί παραπάνω χρόνο καθαρισμού απο ένα χρώμα που έχει βάση του το\n",
    "νερό. Κάτι αντίστοιχο συμβαίνει όταν μετά απο μια απόχρωση σκούρου χρώματος θα πρέπει να παραχθεί\n",
    "μια απόχρωση του λευκού. Ο χρόνος καθαρισμού του μηχανήματος (σε λεπτά) που απαιτούνται ώστε το\n",
    "μηχάνημα να παράξει την απόχρωση j δεδομένου ότι η αμέσως προηγούμενη απόχρωση ήταν η i δίνεται\n",
    "από το στοιχείο (i, j) του παρακάτω πίνακα.\n",
    "\n",
    "Επειδή το εργοστάσιο έχει και άλλες δραστηριότητες παραγωγής, η διοίκησή του επιθυμεί η εβδομαδιαία παραγωγή των πέντε ειδικών αποχρώσεων να γίνεται σε όσο το δυνατόν μικρότερο χρόνο (αναμίξεις\n",
    "και καθαρισμοί). Ποια σειρά παραγωγής των αποχρώσεων εξυπηρετεί βέλτιστα την παραπάνω επιθυμία\n",
    "της διοίκησης; Η σειρά θα επαναλαμβάνεται κάθε εβδομάδα, επομένως ο χρόνος καθαρισμού μεταξύ της\n",
    "τελευταίας παραγωγής απόχρωσης μιας εβδομάδας και της πρώτης παραγωγής απόχρωσης της επόμενης\n",
    "εβδομάδας θα πρέπει να προσμετρηθεί στον συνολικό χρόνο καθαρισμού του μηχανήματος.\n"
   ],
   "cell_type": "markdown",
   "metadata": {}
  },
  {
   "cell_type": "code",
   "execution_count": 24,
   "metadata": {},
   "outputs": [],
   "source": [
    "import matplotlib.pyplot as plt\n",
    "import matplotlib as mpl\n",
    "import pandas as pd\n",
    "import numpy as np\n",
    "\n",
    "import shutil\n",
    "import sys\n",
    "import os.path\n",
    "\n",
    "import gurobipy\n",
    "\n",
    "from pyomo.environ import *\n",
    "from pyomo.gdp import *"
   ]
  },
  {
   "cell_type": "code",
   "execution_count": 25,
   "metadata": {},
   "outputs": [],
   "source": [
    "Mix_times = [40, 35, 45, 32, 50]\n",
    "\n",
    "Clean_times = [\n",
    "    [0, 11, 7, 13, 11],\n",
    "    [5, 0, 13, 15, 15],\n",
    "    [13, 15, 0, 23, 11],\n",
    "    [9, 13, 5, 0, 3],\n",
    "    [3, 7, 7, 7, 0]\n",
    "]\n",
    "\n",
    "TASKS = {\n",
    "    'batch1': {'cleaning_time': Clean_times[0], 'mixing_time': Mix_times[0]},\n",
    "    'batch2': {'cleaning_time': Clean_times[1], 'mixing_time': Mix_times[1]},\n",
    "    'batch3': {'cleaning_time': Clean_times[2], 'mixing_time': Mix_times[2]},\n",
    "    'batch4': {'cleaning_time': Clean_times[3], 'mixing_time': Mix_times[3]},\n",
    "    'batch5': {'cleaning_time': Clean_times[4], 'mixing_time': Mix_times[4]}\n",
    "}\n",
    "\n",
    "\n",
    "succ = np.zeros_like(Clean_times)\n",
    "for i in range(len(Clean_times)):\n",
    "    for j in range(len(Clean_times)):\n",
    "        if Clean_times[i][j] == 0:\n",
    "            succ[i][j] = 0\n",
    "        else:\n",
    "            succ[i][j] = 1"
   ]
  },
  {
   "cell_type": "code",
   "execution_count": 26,
   "metadata": {},
   "outputs": [],
   "source": [
    "#Initializing the Graph Class\n",
    "class Graph:\n",
    "    def __init__(self, vertices):\n",
    "        self.V = vertices\n",
    "        self.graph = []\n",
    "        self.nodes = []\n",
    "        self.MST = []\n",
    "\n",
    "    def addEdge(self, s, d, w):\n",
    "        self.graph.append([s, d, w])\n",
    "    \n",
    "    def addNode(self, value):\n",
    "        self.nodes.append(value)\n",
    "\n",
    "    def printSolution(self,s,d,w):\n",
    "        for s, d, w in self.MST:\n",
    "            print(\"%s - %s: %s\" % (s, d, w))\n"
   ]
  },
  {
   "cell_type": "code",
   "execution_count": 27,
   "metadata": {},
   "outputs": [],
   "source": [
    "#Implementing Disjoint Set data structure and its functions\n",
    "class DisjointSet:\n",
    "    def __init__(self, vertices):\n",
    "        self.vertices = vertices\n",
    "        self.parent = {}\n",
    "        for v in vertices:\n",
    "            self.parent[v] = v\n",
    "        self.rank = dict.fromkeys(vertices, 0)\n",
    "    \n",
    "    def find(self, item):\n",
    "        if self.parent[item] == item:\n",
    "            return item\n",
    "        else:\n",
    "            return self.find(self.parent[item])\n",
    "    \n",
    "    def union(self, x, y):\n",
    "        xroot = self.find(x)\n",
    "        yroot = self.find(y)\n",
    "        if self.rank[xroot] < self.rank[yroot]:\n",
    "            self.parent[xroot] = yroot\n",
    "        elif self.rank[xroot] > self.rank[yroot]:\n",
    "            self.parent[yroot] = xroot\n",
    "        else:\n",
    "            self.parent[yroot] = xroot\n",
    "            self.rank[xroot] += 1"
   ]
  },
  {
   "cell_type": "code",
   "execution_count": 28,
   "metadata": {},
   "outputs": [
    {
     "output_type": "error",
     "ename": "AttributeError",
     "evalue": "'Graph' object has no attribute 'kruskalAlgo'",
     "traceback": [
      "\u001b[1;31m---------------------------------------------------------------------------\u001b[0m",
      "\u001b[1;31mAttributeError\u001b[0m                            Traceback (most recent call last)",
      "Input \u001b[1;32mIn [28]\u001b[0m, in \u001b[0;36m<cell line: 38>\u001b[1;34m()\u001b[0m\n\u001b[0;32m     35\u001b[0m g\u001b[38;5;241m.\u001b[39maddEdge(\u001b[38;5;124m\"\u001b[39m\u001b[38;5;124mE\u001b[39m\u001b[38;5;124m\"\u001b[39m, \u001b[38;5;124m\"\u001b[39m\u001b[38;5;124mA\u001b[39m\u001b[38;5;124m\"\u001b[39m, \u001b[38;5;241m15\u001b[39m)\n\u001b[0;32m     36\u001b[0m g\u001b[38;5;241m.\u001b[39maddEdge(\u001b[38;5;124m\"\u001b[39m\u001b[38;5;124mE\u001b[39m\u001b[38;5;124m\"\u001b[39m, \u001b[38;5;124m\"\u001b[39m\u001b[38;5;124mC\u001b[39m\u001b[38;5;124m\"\u001b[39m, \u001b[38;5;241m20\u001b[39m)\n\u001b[1;32m---> 38\u001b[0m \u001b[43mg\u001b[49m\u001b[38;5;241;43m.\u001b[39;49m\u001b[43mkruskalAlgo\u001b[49m()\n",
      "\u001b[1;31mAttributeError\u001b[0m: 'Graph' object has no attribute 'kruskalAlgo'"
     ]
    }
   ],
   "source": [
    "#Function to implement Kruskal's Algorithm\n",
    "def kruskalAlgo(self):\n",
    "    i, e = 0, 0\n",
    "    ds = dst.DisjointSet(self.nodes)\n",
    "    self.graph = sorted(self.graph, key=lambda item: item[2])\n",
    "    while e < self.V - 1:\n",
    "        s, d, w = self.graph[i]\n",
    "        i += 1\n",
    "        x = ds.find(s)\n",
    "        y = ds.find(d)\n",
    "        if x != y:\n",
    "            e += 1\n",
    "            self.MST.append([s,d,w])\n",
    "            ds.union(x,y)\n",
    "    self.printSolution(s,d,w)\n",
    "\n",
    "g = Graph(5)\n",
    "g.addNode(\"A\")\n",
    "g.addNode(\"B\")\n",
    "g.addNode(\"C\")\n",
    "g.addNode(\"D\")\n",
    "g.addNode(\"E\")\n",
    "g.addEdge(\"A\", \"B\", 5)\n",
    "g.addEdge(\"A\", \"C\", 13)\n",
    "g.addEdge(\"A\", \"E\", 15)\n",
    "g.addEdge(\"B\", \"A\", 5)\n",
    "g.addEdge(\"B\", \"C\", 10)\n",
    "g.addEdge(\"B\", \"D\", 8)\n",
    "g.addEdge(\"C\", \"A\", 13)\n",
    "g.addEdge(\"C\", \"B\", 10)\n",
    "g.addEdge(\"C\", \"E\", 20)\n",
    "g.addEdge(\"C\", \"D\", 6)\n",
    "g.addEdge(\"D\", \"B\", 8)\n",
    "g.addEdge(\"D\", \"C\", 6)\n",
    "g.addEdge(\"E\", \"A\", 15)\n",
    "g.addEdge(\"E\", \"C\", 20)\n",
    "\n",
    "g.kruskalAlgo()"
   ]
  }
 ]
}
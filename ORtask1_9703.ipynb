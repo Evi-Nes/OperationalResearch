{
 "metadata": {
  "language_info": {
   "codemirror_mode": {
    "name": "ipython",
    "version": 3
   },
   "file_extension": ".py",
   "mimetype": "text/x-python",
   "name": "python",
   "nbconvert_exporter": "python",
   "pygments_lexer": "ipython3",
   "version": "3.8.3-final"
  },
  "orig_nbformat": 2,
  "kernelspec": {
   "name": "python3",
   "display_name": "Python 3.8.3 64-bit",
   "metadata": {
    "interpreter": {
     "hash": "436781cdaaa49796c8ccde713ecefcd9026b295f171fc4e55855ff078ca64f24"
    }
   }
  }
 },
 "nbformat": 4,
 "nbformat_minor": 2,
 "cells": [
  {
   "source": [
    "Εκφώνηση Ερωτήματος 1\n",
    "******\n",
    "Το εργοστάσιο ῾῾Ουράνιο Τόξο᾿᾿, μεταξύ των διαφόρων χρωμάτων και σχετικών προϊόντων που παράγει,\n",
    "παράγει και πέντε διαφορετικές ειδικές αποχρώσεις χρωμάτων (με ονομασίες: 1, 2, 3, 4 και 5) για\n",
    "μεγάλους πελάτες της, για τις οποίες η ζήτηση είναι σταθερή. Κάθε τέτοια ειδική απόχρωση προκύπτει\n",
    "από ένα συγκεκριμένο μηχάνημα ανάμιξης το οποίο θα πρέπει να καθαρίζεται πριν την παραγωγή της\n",
    "επόμενης (διαφορετικής) απόχρωσης. Η διαδικασία ανάμιξης για κάθε απόχρωση από το 1 έως το 5\n",
    "διαρκεί 40, 35, 45, 32 και 50 λεπτά, αντίστοιχα. Οι χρόνοι καθαρισμού του παραπάνω μηχανήματος\n",
    "εξαρτώνται τόσο από τον τύπο όσο και από την απόχρωση των χρωμάτων. Για παράδειγμα, ένα χρώμα\n",
    "που είναι βασισμένο σε λάδι απαιτεί παραπάνω χρόνο καθαρισμού απο ένα χρώμα που έχει βάση του το\n",
    "νερό. Κάτι αντίστοιχο συμβαίνει όταν μετά απο μια απόχρωση σκούρου χρώματος θα πρέπει να παραχθεί\n",
    "μια απόχρωση του λευκού. Ο χρόνος καθαρισμού του μηχανήματος (σε λεπτά) που απαιτούνται ώστε το\n",
    "μηχάνημα να παράξει την απόχρωση j δεδομένου ότι η αμέσως προηγούμενη απόχρωση ήταν η i δίνεται\n",
    "από το στοιχείο (i, j) του παρακάτω πίνακα.\n",
    "\n",
    "\n",
    "Επειδή το εργοστάσιο έχει και άλλες δραστηριότητες παραγωγής, η διοίκησή του επιθυμεί η εβδομαδιαία παραγωγή των πέντε ειδικών αποχρώσεων να γίνεται σε όσο το δυνατόν μικρότερο χρόνο (αναμίξεις\n",
    "και καθαρισμοί). Ποια σειρά παραγωγής των αποχρώσεων εξυπηρετεί βέλτιστα την παραπάνω επιθυμία\n",
    "της διοίκησης; Η σειρά θα επαναλαμβάνεται κάθε εβδομάδα, επομένως ο χρόνος καθαρισμού μεταξύ της\n",
    "τελευταίας παραγωγής απόχρωσης μιας εβδομάδας και της πρώτης παραγωγής απόχρωσης της επόμενης\n",
    "εβδομάδας θα πρέπει να προσμετρηθεί στον συνολικό χρόνο καθαρισμού του μηχανήματος."
   ],
   "cell_type": "markdown",
   "metadata": {}
  },
  {
   "cell_type": "code",
   "execution_count": 29,
   "metadata": {},
   "outputs": [],
   "source": [
    "import numpy as np\n",
    "\n",
    "from pyomo.environ import *\n",
    "from pyomo.gdp import *\n",
    "\n",
    "from ortools.constraint_solver import pywrapcp, routing_enums_pb2"
   ]
  },
  {
   "source": [
    "Θέλουμε την παραγωγή των 5 χρωμάτων με τον ελάχιστο δυνατό χρόνο ανά εβδομάδα. Επειδή οι χρόνοι για ανάμειξη είναι δεδομένοι και σταθεροί, μπορούμε να τους προσθέσουμε απλά στο τελικό αποτέλεσμα. Άρα ψάχνουμε τον βέλτιστο τρόπο να περάσουμε από όλα τα χρώματα (κόμβους) και να επιστρέψουμε πάλι στον αρχικό (για να είναι έτοιμο το μηχάνημα για την επόμενη εβδομάδα). Το προβλημα μοιάζει αρκετά με το πρόβλημα του πλανόδιου πωλητή, ή ένα πρόβλημα διάσχισης γράφου, για αυτό και χρησιμοποιώ τον συγκεκριμένο τρόπο επίλυσης."
   ],
   "cell_type": "markdown",
   "metadata": {}
  },
  {
   "cell_type": "code",
   "execution_count": 30,
   "metadata": {},
   "outputs": [],
   "source": [
    "#Εισάγω τα δεδομένα για το πρόβλημα (τους χρόνους καθαρισμού και αναμείξεων)\n",
    "\n",
    "def create_data_model():\n",
    "    \n",
    "    data = {}\n",
    "    data['clean_times'] =  [\n",
    "        [0, 11, 7, 13, 11],\n",
    "        [5, 0, 13, 15, 15],\n",
    "        [13, 15, 0, 23, 11],\n",
    "        [9, 13, 5, 0, 3],\n",
    "        [3, 7, 7, 7, 0]\n",
    "    ]\n",
    "    data['num_machines'] = 1\n",
    "    data['depot'] = 0\n",
    "    data['mix_times'] = [40, 35, 45, 32, 50]\n",
    "    \n",
    "    return data"
   ]
  },
  {
   "cell_type": "code",
   "execution_count": 31,
   "metadata": {},
   "outputs": [],
   "source": [
    "data = create_data_model()\n",
    "manager = pywrapcp.RoutingIndexManager(len(data['clean_times']),\n",
    "                                       data['num_machines'], data['depot'])\n",
    "routing = pywrapcp.RoutingModel(manager)"
   ]
  },
  {
   "cell_type": "code",
   "execution_count": 32,
   "metadata": {},
   "outputs": [],
   "source": [
    "#Βρίσκω τον χρόνο εναλλαγής δύο χρωμάτων, δηλαδή την 'απόσταση' μεταξύ δύο κελιών. \n",
    "def distance_callback(from_index, to_index):\n",
    "\n",
    "    from_node = manager.IndexToNode(from_index)\n",
    "    to_node = manager.IndexToNode(to_index)\n",
    "    return data['clean_times'][from_node][to_node]\n"
   ]
  },
  {
   "source": [
    "Ορίζω ένα έτοιμο μοντέλο της pywrapcp βιβλιοθήκης το οποίο λύνει προβλήματα, όπως το πρόβλημα του πλανόδιου πωλητή. Το μοντέλο χρησιμοποιεί τη στρατηγική PATH_CHEAPEST_ARC, δηλαδή ξεκινάει από έναν αρχικό κόμβο και προσθέτει ακμές με το μικρότερο βάρος, που δεν οδηγούν σε κόμβο που έχει ήδη επισκεφθεί."
   ],
   "cell_type": "markdown",
   "metadata": {}
  },
  {
   "cell_type": "code",
   "execution_count": 33,
   "metadata": {},
   "outputs": [],
   "source": [
    "transit_callback_index = routing.RegisterTransitCallback(distance_callback)\n",
    "\n",
    "routing.SetArcCostEvaluatorOfAllVehicles(transit_callback_index)\n",
    "\n",
    "search_parameters = pywrapcp.DefaultRoutingSearchParameters()\n",
    "search_parameters.first_solution_strategy = (\n",
    "    routing_enums_pb2.FirstSolutionStrategy.PATH_CHEAPEST_ARC)"
   ]
  },
  {
   "cell_type": "code",
   "execution_count": 34,
   "metadata": {},
   "outputs": [],
   "source": [
    "def print_solution(manager, routing, solution):\n",
    "\n",
    "    incompressible_time = np.sum(data['mix_times'])  \n",
    "    print('Minimum time needed: {} minutes'.format(solution.ObjectiveValue() + incompressible_time))\n",
    "    \n",
    "    index = routing.Start(0)\n",
    "    plan_output = 'Optimal paint production:\\n'\n",
    "    cleaning_times = 0\n",
    "\n",
    "    while not routing.IsEnd(index):\n",
    "        plan_output += ' {} ->'.format(manager.IndexToNode(index)+ 1)\n",
    "        previous_index = index\n",
    "        index = solution.Value(routing.NextVar(index)) \n",
    "        cleaning_times += routing.GetArcCostForVehicle(previous_index, index, 0)\n",
    "\n",
    "    plan_output += ' {}\\n'.format(manager.IndexToNode(index)+ 1)\n",
    "\n",
    "    print(plan_output)\n",
    "    plan_output += 'Optimal paint production: {}minutes\\n'.format(cleaning_times)\n",
    "    "
   ]
  },
  {
   "cell_type": "code",
   "execution_count": 35,
   "metadata": {},
   "outputs": [
    {
     "output_type": "stream",
     "name": "stdout",
     "text": [
      "Minimum time needed: 243 minutes\nOptimal paint production:\n 1 -> 4 -> 3 -> 5 -> 2 -> 1\n\n"
     ]
    }
   ],
   "source": [
    "solution = routing.SolveWithParameters(search_parameters)\n",
    "\n",
    "if solution:\n",
    "    print_solution(manager, routing, solution)"
   ]
  }
 ]
}
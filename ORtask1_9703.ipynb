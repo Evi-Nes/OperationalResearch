{
 "metadata": {
  "language_info": {
   "codemirror_mode": {
    "name": "ipython",
    "version": 3
   },
   "file_extension": ".py",
   "mimetype": "text/x-python",
   "name": "python",
   "nbconvert_exporter": "python",
   "pygments_lexer": "ipython3",
   "version": "3.8.3-final"
  },
  "orig_nbformat": 2,
  "kernelspec": {
   "name": "python3",
   "display_name": "Python 3.8.3 64-bit",
   "metadata": {
    "interpreter": {
     "hash": "436781cdaaa49796c8ccde713ecefcd9026b295f171fc4e55855ff078ca64f24"
    }
   }
  }
 },
 "nbformat": 4,
 "nbformat_minor": 2,
 "cells": [
  {
   "cell_type": "code",
   "execution_count": 1,
   "metadata": {},
   "outputs": [],
   "source": [
    "import pandas as pd\n",
    "import numpy as np\n",
    "\n",
    "import gurobipy\n",
    "\n",
    "from pyomo.environ import *\n",
    "from pyomo.gdp import *\n",
    "\n",
    "from ortools.constraint_solver import pywrapcp, routing_enums_pb2"
   ]
  },
  {
   "cell_type": "code",
   "execution_count": 2,
   "metadata": {},
   "outputs": [],
   "source": [
    "def create_data_model():\n",
    "    \n",
    "    data = {}\n",
    "    data['clean_times'] =  [\n",
    "        [0, 11, 7, 13, 11],\n",
    "        [5, 0, 13, 15, 15],\n",
    "        [13, 15, 0, 23, 11],\n",
    "        [9, 13, 5, 0, 3],\n",
    "        [3, 7, 7, 7, 0]\n",
    "    ]\n",
    "    data['num_machines'] = 1\n",
    "    data['depot'] = 0\n",
    "    data['mix_times'] = [40, 35, 45, 32, 50]\n",
    "    \n",
    "    return data"
   ]
  },
  {
   "cell_type": "code",
   "execution_count": 3,
   "metadata": {},
   "outputs": [],
   "source": [
    "data = create_data_model()\n",
    "manager = pywrapcp.RoutingIndexManager(len(data['clean_times']),\n",
    "                                       data['num_machines'], data['depot'])\n",
    "routing = pywrapcp.RoutingModel(manager)"
   ]
  },
  {
   "cell_type": "code",
   "execution_count": 4,
   "metadata": {},
   "outputs": [],
   "source": [
    "def distance_callback(from_index, to_index):\n",
    "\n",
    "    from_node = manager.IndexToNode(from_index)\n",
    "    to_node = manager.IndexToNode(to_index)\n",
    "    return data['clean_times'][from_node][to_node]\n",
    "\n",
    "transit_callback_index = routing.RegisterTransitCallback(distance_callback)"
   ]
  },
  {
   "cell_type": "code",
   "execution_count": 5,
   "metadata": {},
   "outputs": [],
   "source": [
    "routing.SetArcCostEvaluatorOfAllVehicles(transit_callback_index)\n",
    "\n",
    "search_parameters = pywrapcp.DefaultRoutingSearchParameters()\n",
    "search_parameters.first_solution_strategy = (\n",
    "    routing_enums_pb2.FirstSolutionStrategy.PATH_CHEAPEST_ARC)"
   ]
  },
  {
   "cell_type": "code",
   "execution_count": 6,
   "metadata": {},
   "outputs": [],
   "source": [
    "def print_solution(manager, routing, solution):\n",
    "\n",
    "    incompressible_time = np.sum(data['mix_times'])\n",
    "    print('Objective: {} minutes'.format(solution.ObjectiveValue() + incompressible_time))\n",
    "    \n",
    "    index = routing.Start(0)\n",
    "    plan_output = 'Optimal paint production:\\n'\n",
    "    cleaning_times = 0\n",
    "\n",
    "    while not routing.IsEnd(index):\n",
    "        plan_output += ' {} ->'.format(manager.IndexToNode(index)+ 1)\n",
    "        previous_index = index\n",
    "        index = solution.Value(routing.NextVar(index)) \n",
    "        cleaning_times += routing.GetArcCostForVehicle(previous_index, index, 0)\n",
    "\n",
    "    plan_output += ' {}\\n'.format(manager.IndexToNode(index)+ 1)\n",
    "\n",
    "    print(plan_output)\n",
    "    plan_output += 'Optimal paint production: {}minutes\\n'.format(cleaning_times)\n",
    "    "
   ]
  },
  {
   "cell_type": "code",
   "execution_count": 7,
   "metadata": {},
   "outputs": [
    {
     "output_type": "stream",
     "name": "stdout",
     "text": [
      "Objective: 243 minutes\nOptimal paint production:\n 1 -> 4 -> 3 -> 5 -> 2 -> 1\n\n"
     ]
    }
   ],
   "source": [
    "solution = routing.SolveWithParameters(search_parameters)\n",
    "\n",
    "if solution:\n",
    "    print_solution(manager, routing, solution)"
   ]
  }
 ]
}
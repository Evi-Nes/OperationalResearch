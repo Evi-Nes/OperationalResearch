{
 "cells": [
  {
   "source": [
    "Εκφώνηση Ερωτήματος 2\n",
    "******\n",
    "Το εργοστάσιο ῾῾Ουράνιο Τόξο᾿᾿ έχει αναλάβει επίσης τον χρωματισμό τριών ταπετσαριών με τις κωδικές\n",
    "ονομασίες: Ταπ1, Ταπ2 και Ταπ3. Η Ταπ1 έχει μπλε φόντο και κίτρινα σχέδια, η Ταπ2 έχει πράσινο\n",
    "φόντο και μπλε και κίτρινα σχέδια και η Ταπ3 έχει κίτρινο φόντο και μπλε και πράσινα σχέδια. Για την\n",
    "επίτευξη των παραπάνω χρωματισμών, το εργοστάσιο έχει τρία διαφορετικά μηχανήματα που το κάθε\n",
    "ένα μπορεί να χρώματίσει με ένα μόνο από τα παραπάνω χρώματα (πράσινο, μπλε ή κίτρινό). Η Ταπ1\n",
    "για να παραχθεί θα πρέπει πρώτα να δημιουργηθεί το μπλε φόντο και στην συνέχεια να δημιουργηθούν\n",
    "τα κίτρινα σχέδια. Η Ταπ2 για να παραχθεί θα πρέπει πρώτα να δημιουργηθεί το πράσινο φόντο, στην\n",
    "συνέχεια να δημιουργηθούν τα μπλε σχέδια και στο τέλος να δημιουργηθούν τα κίτρινα σχέδια. Η Ταπ3\n",
    "για να παραχθεί θα πρέπει πρώτα να δημιουργηθεί το κίτρινο φόντο, στην συνέχεια να δημιουργηθούν\n",
    "τα μπλε σχέδια και στο τέλος να δημιουργηθούν τα πράσινα σχέδια.\n",
    "Ο χρόνος εφαρμογής κάθε χρωμάτος για την παραγωγή του κάθε τύπου ταπετσαρίας διαφέρει βάσει\n",
    "του υλικού της επιφάνεις που πρέπει να χρωματιστεί. Συγκεκριμένα, αυτός ο χρόνος (σε λεπτά) δίνεται\n",
    "στον παρακάτω πίνακα.\n",
    "\n",
    "Γνωρίζοντας ότι κάθε μηχάνημα μπορεί να επεξεργαστεί μία ταπετσαρία κάθε φορά και ότι η κάθε\n",
    "ταπετσαρία δεν μπορεί να επεξεργαστεί παράλληλα από διαφορετικά μηχανήματα, η διοίκηση σας ζητά να βρείτε εκείνον τον προγραμματισμό που θα αποπερατώσει την παραγωγή και των τριών τύπων\n",
    "ταπετσαρίας στο μικρότερο δυνατό χρόνο.\n"
   ],
   "cell_type": "markdown",
   "metadata": {}
  },
  {
   "cell_type": "code",
   "execution_count": 1,
   "metadata": {},
   "outputs": [],
   "source": [
    "import pandas as pd\n",
    "\n",
    "import gurobipy\n",
    "\n",
    "from pyomo.environ import *\n",
    "from pyomo.gdp import *"
   ]
  },
  {
   "source": [
    "Φορτώνω τον πίνακα με τους χρόνους και την απαιτούμενη προετοιμασία για κάθε ταπετσαρία."
   ],
   "cell_type": "markdown",
   "metadata": {}
  },
  {
   "cell_type": "code",
   "execution_count": 2,
   "metadata": {},
   "outputs": [],
   "source": [
    "TASKS = {\n",
    "    ('Ταπ_1','Μπλε')   : {'dur': 45, 'prec': None},\n",
    "    ('Ταπ_1','Κίτρινο') : {'dur': 10, 'prec': ('Ταπ_1','Μπλε')},\n",
    "    ('Ταπ_2','Μπλε')   : {'dur': 20, 'prec': ('Ταπ_2','Πράσινο')},\n",
    "    ('Ταπ_2','Πράσινο')  : {'dur': 10, 'prec': None},\n",
    "    ('Ταπ_2','Κίτρινο') : {'dur': 34, 'prec': ('Ταπ_2','Μπλε')},\n",
    "    ('Ταπ_3','Μπλε')   : {'dur': 12, 'prec': ('Ταπ_3','Κίτρινο')},\n",
    "    ('Ταπ_3','Πράσινο')  : {'dur': 17, 'prec': ('Ταπ_3','Μπλε')},\n",
    "    ('Ταπ_3','Κίτρινο') : {'dur': 28, 'prec': None},   \n",
    "}"
   ]
  },
  {
   "source": [
    "Σκοπός μας είναι να ελαχιστοποήσουμε τον συνολικό χρόνο που απαιτείται για την κάθε ταπετσαρία/εργασία, δηλαδή minimize finish = start_time + duration. \n",
    "\n",
    "Για τελειώσει, πρέπει να έχουν τελείωσει όλες οι διαδικασίες από όλες τις εργασίες/ταπετσαρίες, δηλαδή θέλουμε η χρονινκή στιγμή finish να είναι μεγαλύτερη από τους χρόνους τελειώνουν οι τελευταίες διαδικασίες για κάθε εργασία:\n",
    "\n",
    "finish ≥ start13 + DUR13 \n",
    "finish ≥ start23 + DUR23 \n",
    "finish ≥ start32 + DUR32 \n",
    "\n",
    "Π.χ. για την εργασία 1 θέλουμε να μπεί πρώτα το μηχάνημα 1 και μετά το μηχάνημα 3. Άρα πρέπει η διαδικασία στο μηχάνημα 1 να τελείωσει όταν ξεκινάει η διαδικασία στο μηχάνημα 3. \n",
    "\n",
    "start11 + DUR11 ≤ start13\n",
    "\n",
    "Ομοίως, για την εργασία 2 πρέπει να ξεκινήσει με το μηχάνημα 2, μετά να πάει να πάει στο 1 και τέλος στο 3. Άρα θέλουμε:\n",
    "\n",
    "start22 + DUR22 ≤ start21 \n",
    "start21 + DUR21 ≤ start23 \n",
    "\n",
    "Για την εργασία 3, έχουμε την σειρά 3, 1 και 2. Άρα θέλουμε:\n",
    "\n",
    "start33 + DUR33 ≤ start31 \n",
    "start31 + DUR31 ≤ start32 \n",
    "\n",
    "********\n",
    "Συμβολισμός: start23 == ο χρόνος που η εργασία 2 μπαίνει στο μηχάνημα 3 (2,3).\n"
   ],
   "cell_type": "markdown",
   "metadata": {}
  },
  {
   "cell_type": "code",
   "execution_count": 3,
   "metadata": {
    "collapsed": true
   },
   "outputs": [
    {
     "output_type": "stream",
     "name": "stdout",
     "text": [
      "TASKS*TASKS\n"
     ]
    },
    {
     "output_type": "execute_result",
     "data": {
      "text/plain": [
       "<pyomo.core.base.PyomoModel.ConcreteModel at 0x22dbec5d180>"
      ]
     },
     "metadata": {},
     "execution_count": 3
    }
   ],
   "source": [
    "def jobshop_model(TASKS):\n",
    "    \n",
    "    model = ConcreteModel()\n",
    "\n",
    "    model.TASKS = Set(initialize = TASKS.keys(), dimen=2)\n",
    "    model.JOBS = Set(initialize = list(set([j for (j,m) in model.TASKS])))\n",
    "    model.MACHINES = Set(initialize = list(set([m for (j,m) in model.TASKS])))\n",
    "    \n",
    "    model.TASKORDER = Set(initialize = model.TASKS * model.TASKS, dimen=4, \n",
    "        filter = lambda model, j, m, k, n: (k,n) == TASKS[(j,m)]['prec'])\n",
    "    \n",
    "    model.DISJUNCTIONS = Set(initialize = model.JOBS * model.JOBS * model.MACHINES, dimen=3,\n",
    "        filter = lambda model, j, k, m: j < k and (j,m) in model.TASKS and (k,m) in model.TASKS)\n",
    "    \n",
    "    model.dur = Param(model.TASKS, initialize=lambda model, j, m: TASKS[(j,m)]['dur'])\n",
    "\n",
    "    ub = sum([model.dur[j, m] for (j,m) in model.TASKS])\n",
    "    \n",
    "    model.makespan = Var(bounds=(0, ub))\n",
    "    model.start = Var(model.TASKS, bounds=(0, ub))\n",
    "    \n",
    "    model.objective = Objective(expr = model.makespan, sense = minimize)\n",
    "\n",
    "    model.finish = Constraint(model.TASKS, rule=lambda model, j, m:  \n",
    "        model.start[j,m] + model.dur[j,m] <= model.makespan)\n",
    "    \n",
    "    model.preceding = Constraint(model.TASKORDER, rule=lambda model, j, m, k, n: \n",
    "        model.start[k,n] + model.dur[k,n] <= model.start[j,m])\n",
    "    \n",
    "    model.disjunctions = Disjunction(model.DISJUNCTIONS, rule=lambda model,j,k,m:\n",
    "        [model.start[j,m] + model.dur[j,m] <= model.start[k,m], \n",
    "         model.start[k,m] + model.dur[k,m] <= model.start[j,m]])\n",
    "    \n",
    "    TransformationFactory('gdp.hull').apply_to(model)\n",
    "    return model\n",
    "\n",
    "jobshop_model(TASKS)"
   ]
  },
  {
   "source": [
    "Χρησιμοποιώ το SolverFactory('gurobi') και ορίζω:\n",
    "\n",
    "    Job: η ταπετσαρία που πρέπει να φτιαχτεί (εργασία)\n",
    "\n",
    "    Machine: το μηχάνημα για κάθε χρώμα (1, 2, 3)\n",
    "\n",
    "    Start: η στιγμή που ξεκινάει η αντίστοιχη διαδικασία \n",
    "\n",
    "    Duration: η διάρκεια μέχρι να ολοκληρωθεί η διαδικασία\n",
    "    \n",
    "    Finish: η στιγμή που τελειώνεια η αντίστοιχη διαδικασία"
   ],
   "cell_type": "markdown",
   "metadata": {}
  },
  {
   "cell_type": "code",
   "execution_count": 4,
   "metadata": {},
   "outputs": [
    {
     "output_type": "stream",
     "name": "stdout",
     "text": [
      "TASKS*TASKS\n"
     ]
    },
    {
     "output_type": "execute_result",
     "data": {
      "text/plain": [
       "[{'Job': 'Ταπ_1',\n",
       "  'Machine': 'Μπλε',\n",
       "  'Start': 42.0,\n",
       "  'Duration': 45,\n",
       "  'Finish': 87.0},\n",
       " {'Job': 'Ταπ_1',\n",
       "  'Machine': 'Κίτρινο',\n",
       "  'Start': 87.0,\n",
       "  'Duration': 10,\n",
       "  'Finish': 97.0},\n",
       " {'Job': 'Ταπ_2',\n",
       "  'Machine': 'Μπλε',\n",
       "  'Start': 10.0,\n",
       "  'Duration': 20,\n",
       "  'Finish': 30.0},\n",
       " {'Job': 'Ταπ_2',\n",
       "  'Machine': 'Πράσινο',\n",
       "  'Start': 0.0,\n",
       "  'Duration': 10,\n",
       "  'Finish': 10.0},\n",
       " {'Job': 'Ταπ_2',\n",
       "  'Machine': 'Κίτρινο',\n",
       "  'Start': 30.0,\n",
       "  'Duration': 34,\n",
       "  'Finish': 64.0},\n",
       " {'Job': 'Ταπ_3',\n",
       "  'Machine': 'Μπλε',\n",
       "  'Start': 30.0,\n",
       "  'Duration': 12,\n",
       "  'Finish': 42.0},\n",
       " {'Job': 'Ταπ_3',\n",
       "  'Machine': 'Πράσινο',\n",
       "  'Start': 42.0,\n",
       "  'Duration': 17,\n",
       "  'Finish': 59.0},\n",
       " {'Job': 'Ταπ_3',\n",
       "  'Machine': 'Κίτρινο',\n",
       "  'Start': 0.0,\n",
       "  'Duration': 28,\n",
       "  'Finish': 28.0}]"
      ]
     },
     "metadata": {},
     "execution_count": 4
    }
   ],
   "source": [
    "def jobshop_solve(model):\n",
    "    SolverFactory('gurobi').solve(model)\n",
    "    \n",
    "    results = [{'Job': j,\n",
    "                'Machine': m,\n",
    "                'Start': model.start[j, m](), \n",
    "                'Duration': model.dur[j,m], \n",
    "                'Finish': model.start[(j, m)]() + model.dur[j,m]}\n",
    "               for j,m in model.TASKS]\n",
    "    return results\n",
    "\n",
    "def jobshop(TASKS):\n",
    "    return jobshop_solve(jobshop_model(TASKS))\n",
    "\n",
    "results = jobshop(TASKS)\n",
    "results"
   ]
  },
  {
   "cell_type": "code",
   "execution_count": 5,
   "metadata": {},
   "outputs": [
    {
     "output_type": "stream",
     "name": "stdout",
     "text": [
      "\nSchedule by Job\n               Start  Duration  Finish\nJob   Machine                         \nΤαπ_1 Μπλε      42.0        45    87.0\n      Κίτρινο   87.0        10    97.0\nΤαπ_2 Πράσινο    0.0        10    10.0\n      Μπλε      10.0        20    30.0\n      Κίτρινο   30.0        34    64.0\nΤαπ_3 Κίτρινο    0.0        28    28.0\n      Μπλε      30.0        12    42.0\n      Πράσινο   42.0        17    59.0\n\nSchedule by Machine\n               Start  Duration  Finish\nMachine Job                           \nΚίτρινο Ταπ_3    0.0        28    28.0\n        Ταπ_2   30.0        34    64.0\n        Ταπ_1   87.0        10    97.0\nΜπλε    Ταπ_2   10.0        20    30.0\n        Ταπ_3   30.0        12    42.0\n        Ταπ_1   42.0        45    87.0\nΠράσινο Ταπ_2    0.0        10    10.0\n        Ταπ_3   42.0        17    59.0\n"
     ]
    }
   ],
   "source": [
    "schedule = pd.DataFrame(results)\n",
    "\n",
    "print('\\nSchedule by Job')\n",
    "print(schedule.sort_values(by=['Job','Start']).set_index(['Job', 'Machine']))\n",
    "\n",
    "print('\\nSchedule by Machine')\n",
    "print(schedule.sort_values(by=['Machine','Start']).set_index(['Machine', 'Job']))"
   ]
  }
 ],
 "metadata": {
  "kernelspec": {
   "name": "python3",
   "display_name": "Python 3.8.3 64-bit",
   "metadata": {
    "interpreter": {
     "hash": "436781cdaaa49796c8ccde713ecefcd9026b295f171fc4e55855ff078ca64f24"
    }
   }
  },
  "language_info": {
   "codemirror_mode": {
    "name": "ipython",
    "version": 2
   },
   "file_extension": ".py",
   "mimetype": "text/x-python",
   "name": "python",
   "nbconvert_exporter": "python",
   "pygments_lexer": "ipython2",
   "version": "3.8.3-final"
  }
 },
 "nbformat": 4,
 "nbformat_minor": 0
}
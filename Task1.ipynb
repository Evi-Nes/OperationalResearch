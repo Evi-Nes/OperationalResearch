{
 "cells": [
  {
   "cell_type": "code",
   "execution_count": 1,
   "outputs": [],
   "source": [
    "import pandas as pd\n",
    "\n",
    "from pyomo.environ import *\n",
    "from pyomo.gdp import *"
   ],
   "metadata": {
    "collapsed": false,
    "pycharm": {
     "name": "#%%\n"
    }
   }
  },
  {
   "cell_type": "code",
   "execution_count": 2,
   "outputs": [],
   "source": [
    "TASKS = {\n",
    "    ('Wall1','Blue')   : {'dur': 45, 'prec': None},\n",
    "    ('Wall1','Yellow') : {'dur': 10, 'prec': ('Wall1','Blue')},\n",
    "    ('Wall2','Blue')   : {'dur': 20, 'prec': ('Wall2','Green')},\n",
    "    ('Wall2','Green')  : {'dur': 10, 'prec': None},\n",
    "    ('Wall2','Yellow') : {'dur': 34, 'prec': ('Wall2','Blue')},\n",
    "    ('Wall3','Blue')   : {'dur': 12, 'prec': ('Wall3','Yellow')},\n",
    "    ('Wall3','Green')  : {'dur': 17, 'prec': ('Wall3','Blue')},\n",
    "    ('Wall3','Yellow') : {'dur': 28, 'prec': None},\n",
    "}"
   ],
   "metadata": {
    "collapsed": false,
    "pycharm": {
     "name": "#%%\n"
    }
   }
  },
  {
   "cell_type": "code",
   "execution_count": 3,
   "outputs": [
    {
     "data": {
      "text/plain": "<pyomo.core.base.PyomoModel.ConcreteModel at 0x11c8a5e40>"
     },
     "execution_count": 3,
     "metadata": {},
     "output_type": "execute_result"
    }
   ],
   "source": [
    "def jobshop_model(TASKS):\n",
    "\n",
    "    model = ConcreteModel()\n",
    "\n",
    "    model.TASKS = Set(initialize = TASKS.keys(), dimen=2)\n",
    "    model.JOBS = Set(initialize = list(set([j for (j,m) in model.TASKS])))\n",
    "    model.MACHINES = Set(initialize = list(set([m for (j,m) in model.TASKS])))\n",
    "\n",
    "    model.TASKORDER = Set(initialize = model.TASKS * model.TASKS, dimen=4,\n",
    "        filter = lambda model, j, m, k, n: (k,n) == TASKS[(j,m)]['prec'])\n",
    "\n",
    "    model.DISJUNCTIONS = Set(initialize = model.JOBS * model.JOBS * model.MACHINES, dimen=3,\n",
    "        filter = lambda model, j, k, m: j < k and (j,m) in model.TASKS and (k,m) in model.TASKS)\n",
    "\n",
    "    model.dur = Param(model.TASKS, initialize=lambda model, j, m: TASKS[(j,m)]['dur'])\n",
    "\n",
    "    ub = sum([model.dur[j, m] for (j,m) in model.TASKS])\n",
    "\n",
    "    # δημιουργώ μεταβλητές απόφασης\n",
    "    model.makespan = Var(bounds=(0, ub))\n",
    "    model.start = Var(model.TASKS, bounds=(0, ub))\n",
    "\n",
    "    model.objective = Objective(expr = model.makespan, sense = minimize)\n",
    "\n",
    "    model.finish = Constraint(model.TASKS, rule=lambda model, j, m:\n",
    "        model.start[j,m] + model.dur[j,m] <= model.makespan)\n",
    "\n",
    "    model.preceding = Constraint(model.TASKORDER, rule=lambda model, j, m, k, n:\n",
    "        model.start[k,n] + model.dur[k,n] <= model.start[j,m])\n",
    "\n",
    "    model.disjunctions = Disjunction(model.DISJUNCTIONS, rule=lambda model,j,k,m:\n",
    "        [model.start[j,m] + model.dur[j,m] <= model.start[k,m],\n",
    "         model.start[k,m] + model.dur[k,m] <= model.start[j,m]])\n",
    "\n",
    "    TransformationFactory('gdp.hull').apply_to(model)\n",
    "    return model\n",
    "\n",
    "jobshop_model(TASKS)"
   ],
   "metadata": {
    "collapsed": false,
    "pycharm": {
     "name": "#%%\n"
    }
   }
  },
  {
   "cell_type": "code",
   "execution_count": 4,
   "outputs": [
    {
     "name": "stdout",
     "output_type": "stream",
     "text": [
      "Total time needed:  97\n",
      "\n",
      "Schedule by Job\n",
      "               Start  Duration  Finish\n",
      "Job   Machine                         \n",
      "Wall1 Blue      42.0        45    87.0\n",
      "      Yellow    87.0        10    97.0\n",
      "Wall2 Green      0.0        10    10.0\n",
      "      Blue      10.0        20    30.0\n",
      "      Yellow    30.0        34    64.0\n",
      "Wall3 Yellow     0.0        28    28.0\n",
      "      Blue      30.0        12    42.0\n",
      "      Green     80.0        17    97.0\n",
      "\n",
      "Schedule by Machine\n",
      "               Start  Duration  Finish\n",
      "Machine Job                           \n",
      "Blue    Wall2   10.0        20    30.0\n",
      "        Wall3   30.0        12    42.0\n",
      "        Wall1   42.0        45    87.0\n",
      "Green   Wall2    0.0        10    10.0\n",
      "        Wall3   80.0        17    97.0\n",
      "Yellow  Wall3    0.0        28    28.0\n",
      "        Wall2   30.0        34    64.0\n",
      "        Wall1   87.0        10    97.0\n"
     ]
    }
   ],
   "source": [
    "def jobshop_solve(model):\n",
    "    SolverFactory('gurobi').solve(model)\n",
    "\n",
    "    results = [{'Job': j,\n",
    "                'Machine': m,\n",
    "                'Start': model.start[j, m](),\n",
    "                'Duration': model.dur[j,m],\n",
    "                'Finish': model.start[(j, m)]() + model.dur[j,m]}\n",
    "               for j,m in model.TASKS]\n",
    "    return results\n",
    "\n",
    "def jobshop(TASKS):\n",
    "    return jobshop_solve(jobshop_model(TASKS))\n",
    "\n",
    "results = jobshop(TASKS)\n",
    "results\n",
    "schedule = pd.DataFrame(results)\n",
    "\n",
    "print('Total time needed: ', ceil(schedule.Finish.max()))\n",
    "print('\\nSchedule by Job')\n",
    "print(schedule.sort_values(by=['Job','Start']).set_index(['Job', 'Machine']))\n",
    "\n",
    "print('\\nSchedule by Machine')\n",
    "print(schedule.sort_values(by=['Machine','Start']).set_index(['Machine', 'Job']))"
   ],
   "metadata": {
    "collapsed": false,
    "pycharm": {
     "name": "#%%\n"
    }
   }
  }
 ],
 "metadata": {
  "kernelspec": {
   "display_name": "Python 3",
   "language": "python",
   "name": "python3"
  },
  "language_info": {
   "codemirror_mode": {
    "name": "ipython",
    "version": 2
   },
   "file_extension": ".py",
   "mimetype": "text/x-python",
   "name": "python",
   "nbconvert_exporter": "python",
   "pygments_lexer": "ipython2",
   "version": "2.7.6"
  }
 },
 "nbformat": 4,
 "nbformat_minor": 0
}
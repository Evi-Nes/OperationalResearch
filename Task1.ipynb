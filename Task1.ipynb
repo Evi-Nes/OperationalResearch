{
 "cells": [
  {
   "cell_type": "code",
   "execution_count": 27,
   "metadata": {},
   "outputs": [],
   "source": [
    "import numpy as np\n",
    "from pyomo.environ import *\n",
    "from pyomo.gdp import *"
   ]
  },
  {
   "cell_type": "code",
   "execution_count": 61,
   "metadata": {
    "collapsed": true,
    "pycharm": {
     "name": "#%%\n"
    }
   },
   "outputs": [],
   "source": [
    "CLEANING_TIMES = [\n",
    "    [0, 11, 7, 13, 11],\n",
    "    [5, 0, 13, 15, 15],\n",
    "    [13, 15, 0, 23, 11],\n",
    "    [9, 13, 5, 0, 3],\n",
    "    [3, 7, 7, 7, 0]\n",
    "]\n",
    "\n",
    "MIXING_TIMES = [40, 35, 45, 32, 50]\n",
    "\n",
    "TASKS = {\n",
    "    'batch1': {'cleaning_time': CLEANING_TIMES[0], 'mixing_time': MIXING_TIMES[0]},\n",
    "    'batch2': {'cleaning_time': CLEANING_TIMES[1], 'mixing_time': MIXING_TIMES[1]},\n",
    "    'batch3': {'cleaning_time': CLEANING_TIMES[2], 'mixing_time': MIXING_TIMES[2]},\n",
    "    'batch4': {'cleaning_time': CLEANING_TIMES[3], 'mixing_time': MIXING_TIMES[3]},\n",
    "    'batch5': {'cleaning_time': CLEANING_TIMES[4], 'mixing_time': MIXING_TIMES[4]}\n",
    "}\n",
    "\n",
    "succ = np.array(CLEANING_TIMES).astype(np.bool_)"
   ]
  },
  {
   "cell_type": "code",
   "execution_count": 52,
   "metadata": {},
   "outputs": [
    {
     "name": "stdout",
     "output_type": "stream",
     "text": [
      "AbstractOrderedScalarSet\n"
     ]
    }
   ],
   "source": [
    "model = ConcreteModel()\n",
    "model.TASKS = Set(initialize = TASKS.keys())"
   ]
  },
  {
   "cell_type": "code",
   "execution_count": 44,
   "metadata": {},
   "outputs": [],
   "source": [
    "def define_model(TASKS):\n",
    "    model = ConcreteModel()\n",
    "\n",
    "    model.TASKS = Set(initialize = TASKS.keys(), dimen=2)\n",
    "    model.JOBS = Set(initialize = list(set([j for (j,m) in model.TASKS])))\n",
    "    model.MACHINES = Set(initialize = list(set([m for (j,m) in model.TASKS])))\n",
    "    model.TASKORDER = Set(initialize = model.TASKS * model.TASKS, dimen=4,\n",
    "        filter = lambda _, j, m, k, n: (k,n) == TASKS[(j,m)]['exists'])\n",
    "\n",
    "    model.dur = Param(model.TASKS, initialize=lambda _, j, m: TASKS[(j,m)]['dur'])\n",
    "    \n",
    "    upperBound = sum([model.dur[j, m] for (j,m) in model.TASKS])\n",
    "    model.makespan = Var(bounds=(0, upperBound))\n",
    "    model.start = Var(model.TASKS, bounds=(0, upperBound))\n",
    "    model.succ = Var(model.TASKS, initialize=lambda _, j, m: succ[j][m])\n",
    "    model.objective = Objective(expr = model.makespan, sense = minimize)\n",
    "    model.finish = Constraint(model.TASKS, rule=lambda model, j, m:\n",
    "        (model.start[j,m] + model.dur[j,m]) * model.succ[j,m])\n",
    "\n",
    "    model.preceding = Constraint(model.TASKORDER, rule=lambda model, j, m, k, n:\n",
    "        model.start[k,n] + model.dur[k,n] <= model.start[j,m])\n",
    "\n",
    "    model.disjunctions = Disjunction(model.DISJUNCTIONS, rule=lambda model,j,k,m:\n",
    "        [model.start[j,m] + model.dur[j,m] <= model.start[k,m],\n",
    "         model.start[k,m] + model.dur[k,m] <= model.start[j,m]])\n",
    "\n",
    "    TransformationFactory('gdp.hull').apply_to(model)\n",
    "    return model"
   ]
  },
  {
   "cell_type": "code",
   "execution_count": null,
   "metadata": {},
   "outputs": [],
   "source": []
  }
 ],
 "metadata": {
  "kernelspec": {
   "display_name": "Python 3",
   "language": "python",
   "name": "python3"
  },
  "language_info": {
   "codemirror_mode": {
    "name": "ipython",
    "version": 2
   },
   "file_extension": ".py",
   "mimetype": "text/x-python",
   "name": "python",
   "nbconvert_exporter": "python",
   "pygments_lexer": "ipython2",
   "version": "2.7.6"
  }
 },
 "nbformat": 4,
 "nbformat_minor": 0
}

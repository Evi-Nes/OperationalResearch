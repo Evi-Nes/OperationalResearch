{
  "cells": [
    {
      "cell_type": "code",
      "execution_count": 10,
      "metadata": {
        "colab": {
          "base_uri": "https://localhost:8080/"
        },
        "id": "LjfNU4Oju09A",
        "outputId": "ae2883ba-74e5-4fe7-ff3f-36ebd842d3d3"
      },
      "outputs": [
        {
          "output_type": "stream",
          "name": "stdout",
          "text": [
            "Looking in indexes: https://pypi.org/simple, https://us-python.pkg.dev/colab-wheels/public/simple/\n",
            "Requirement already satisfied: pyomo in /usr/local/lib/python3.7/dist-packages (6.4.1)\n",
            "Requirement already satisfied: ortools in /usr/local/lib/python3.7/dist-packages (9.3.10497)\n",
            "Requirement already satisfied: ply in /usr/local/lib/python3.7/dist-packages (from pyomo) (3.11)\n",
            "Requirement already satisfied: absl-py>=0.13 in /usr/local/lib/python3.7/dist-packages (from ortools) (1.0.0)\n",
            "Requirement already satisfied: protobuf>=3.19.4 in /usr/local/lib/python3.7/dist-packages (from ortools) (4.21.1)\n",
            "Requirement already satisfied: numpy>=1.13.3 in /usr/local/lib/python3.7/dist-packages (from ortools) (1.21.6)\n",
            "Requirement already satisfied: six in /usr/local/lib/python3.7/dist-packages (from absl-py>=0.13->ortools) (1.15.0)\n"
          ]
        }
      ],
      "source": [
        "!pip install pyomo ortools\n",
        "\n",
        "import numpy as np\n",
        "\n",
        "from pyomo.environ import *\n",
        "from pyomo.gdp import *\n",
        "\n",
        "from ortools.constraint_solver import pywrapcp, routing_enums_pb2"
      ]
    },
    {
      "cell_type": "code",
      "execution_count": 14,
      "metadata": {
        "id": "NBu9ZcfHu09B"
      },
      "outputs": [],
      "source": [
        "TASKS = {\n",
        "    'clean_times': [\n",
        "        [0, 11, 7, 13, 11],\n",
        "        [5, 0, 13, 15, 15],\n",
        "        [13, 15, 0, 23, 11],\n",
        "        [9, 13, 5, 0, 3],\n",
        "        [3, 7, 7, 7, 0]\n",
        "    ],\n",
        "    'num_machines': 1,\n",
        "    'start': 0,\n",
        "    'mix_times': [40, 35, 45, 32, 50]\n",
        "}"
      ]
    },
    {
      "cell_type": "markdown",
      "metadata": {
        "id": "FlKBZH7du09C"
      },
      "source": [
        "Το πρόβλημα που μας παρουσιάζεται απαιτεί την εύρεση του ελάχιστου χρόνου που απαιτείται για την παραγωγή μερικών χρωμάτων. Η παραγωγή αυτή απαιτεί πρώτα τον καθαρισμό του δοχείου και έπειτα την μίξη του χρώματος. Η μίξη του χρώματος απαιτεί κατ'ελάχιστο περισσότερο χρόνο από τον κατά μέγιστο καθαρισμό. Για τον παραπάνω λόγο πρόβλημα μπορεί να απλοποιηθεί καθώς δεν πρόκειται να 'βολέψει' να ξεκινήσει η ανάμιξη ενός χρώματος όταν θα περιμένει κάποιο άλλο να μπεί στο μηχάνημα. Λόγω των παραπάνω, το πρόβλημα μπορεί να λυθεί με παρόμοιο τρόπο με το πρόβλημα του πλανόδιου πωλητή, ή ένα πρόβλημα διάσχισης γράφου. "
      ]
    },
    {
      "cell_type": "code",
      "execution_count": 16,
      "metadata": {
        "id": "v_5-ubQku09E"
      },
      "outputs": [],
      "source": [
        "# Συνάρτηση που βρίσκει την 'απόσταση' δύο κελιών, που στην δική μας περίπτωση είναι ο χρόνος εναλλαγής δύο χρωμάτων\n",
        "def distance_callback(from_index, to_index):\n",
        "    from_node = manager.IndexToNode(from_index)\n",
        "    to_node = manager.IndexToNode(to_index)\n",
        "    return TASKS['clean_times'][from_node][to_node]"
      ]
    },
    {
      "cell_type": "code",
      "execution_count": 20,
      "metadata": {
        "id": "JG9XLEHRu09F"
      },
      "outputs": [],
      "source": [
        "def print_solution(manager, routing, solution):\n",
        "    incompressible_time = np.sum(TASKS['mix_times']) #Χρόνος ανάμειξης που δεν μπορεί να βελιστοποιηθεί με κανένα τρόπο\n",
        "    print(f'Total: {solution.ObjectiveValue() + incompressible_time} minutes')\n",
        "    \n",
        "    index = routing.Start(TASKS['start'])\n",
        "    plan_output = f'Best flow: '\n",
        "    cleaning_times = 0\n",
        "\n",
        "    while not routing.IsEnd(index):\n",
        "        plan_output += f'{manager.IndexToNode(index)+ 1} -> '\n",
        "        previous_index = index\n",
        "        index = solution.Value(routing.NextVar(index)) \n",
        "        cleaning_times += routing.GetArcCostForVehicle(previous_index, index, 0)\n",
        "\n",
        "    plan_output += f'{manager.IndexToNode(index)+ 1}'\n",
        "\n",
        "    print(plan_output)    "
      ]
    },
    {
      "cell_type": "markdown",
      "source": [
        "Ορίζουμε ένα έτοιμο μοντέλο της `pywrapcp` βιβλιοθήκης το οποίο είναι φτιαγμένο για να λύνει προβλήματα όπως το πρόβλημα του πλανόδιου πωλητή. Το μοντέλο χρησιμοποιεί τη στρατηγική `PATH_CHEAPEST_ARC` η οποία δημιουργεί μια αρχική διαδρομή για τον επιλύτη προσθέτοντας επανειλημμένα ακμές με το μικρότερο βάρος που δεν οδηγούν σε κόμβο που έχει επισκεφθεί προηγουμένως."
      ],
      "metadata": {
        "id": "R8T9HPFuw25G"
      }
    },
    {
      "cell_type": "code",
      "execution_count": 15,
      "metadata": {
        "id": "p8I-NG-mu09E"
      },
      "outputs": [],
      "source": [
        "manager = pywrapcp.RoutingIndexManager(len(TASKS['clean_times']),\n",
        "                                       TASKS['num_machines'], \n",
        "                                       TASKS['start'])\n",
        "routing = pywrapcp.RoutingModel(manager)\n",
        "\n",
        "transit_callback_index = routing.RegisterTransitCallback(distance_callback)\n",
        "\n",
        "routing.SetArcCostEvaluatorOfAllVehicles(transit_callback_index)\n",
        "\n",
        "search_parameters = pywrapcp.DefaultRoutingSearchParameters()\n",
        "\n",
        "search_parameters.first_solution_strategy = (\n",
        "    routing_enums_pb2.FirstSolutionStrategy.PATH_CHEAPEST_ARC)\n",
        "\n",
        "solution = routing.SolveWithParameters(search_parameters)\n"
      ]
    },
    {
      "cell_type": "code",
      "execution_count": 21,
      "metadata": {
        "colab": {
          "base_uri": "https://localhost:8080/"
        },
        "id": "JnrUJ-Vru09G",
        "outputId": "c972d75c-c690-4eab-ff20-4d1fe588238b"
      },
      "outputs": [
        {
          "output_type": "stream",
          "name": "stdout",
          "text": [
            "Total: 243 minutes\n",
            "Best flow: 1 -> 4 -> 3 -> 5 -> 2 -> 1\n"
          ]
        }
      ],
      "source": [
        "print_solution(manager, routing, solution)"
      ]
    }
  ],
  "metadata": {
    "interpreter": {
      "hash": "29b5865d5d0af9d1c3837ae575e5cacf9855d4c625dc60f6e4eec8d9912b0ec7"
    },
    "kernelspec": {
      "display_name": "Python 3.10.4 ('operationalResearch')",
      "language": "python",
      "name": "python3"
    },
    "language_info": {
      "codemirror_mode": {
        "name": "ipython",
        "version": 3
      },
      "file_extension": ".py",
      "mimetype": "text/x-python",
      "name": "python",
      "nbconvert_exporter": "python",
      "pygments_lexer": "ipython3",
      "version": "3.10.4"
    },
    "orig_nbformat": 2,
    "colab": {
      "name": "Task1.ipynb",
      "provenance": [],
      "collapsed_sections": []
    }
  },
  "nbformat": 4,
  "nbformat_minor": 0
}
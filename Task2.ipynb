{
 "cells": [
  {
   "cell_type": "code",
   "execution_count": 1,
   "metadata": {
    "collapsed": false,
    "pycharm": {
     "name": "#%%\n"
    }
   },
   "outputs": [],
   "source": [
    "import pandas as pd\n",
    "\n",
    "from pyomo.environ import *\n",
    "from pyomo.gdp import *"
   ]
  },
  {
   "cell_type": "markdown",
   "metadata": {},
   "source": [
    "Ορίζω την διαδικασία παραγωγής του κάθε σταδίου της ταπετσαρίας, που απαιτεί τον χρόνο παραγωγής της αλλά και τις προαπαιτήσεις του. "
   ]
  },
  {
   "cell_type": "code",
   "execution_count": 2,
   "metadata": {
    "collapsed": false,
    "pycharm": {
     "name": "#%%\n"
    }
   },
   "outputs": [],
   "source": [
    "TASKS = {\n",
    "    ('Wall_1','Blue')   : {'dur': 45, 'exists': None},\n",
    "    ('Wall_1','Yellow') : {'dur': 10, 'exists': ('Wall_1','Blue')},\n",
    "    ('Wall_2','Blue')   : {'dur': 20, 'exists': ('Wall_2','Green')},\n",
    "    ('Wall_2','Green')  : {'dur': 10, 'exists': None},\n",
    "    ('Wall_2','Yellow') : {'dur': 34, 'exists': ('Wall_2','Blue')},\n",
    "    ('Wall_3','Blue')   : {'dur': 12, 'exists': ('Wall_3','Yellow')},\n",
    "    ('Wall_3','Green')  : {'dur': 17, 'exists': ('Wall_3','Blue')},\n",
    "    ('Wall_3','Yellow') : {'dur': 28, 'exists': None},\n",
    "}"
   ]
  },
  {
   "cell_type": "markdown",
   "metadata": {},
   "source": []
  },
  {
   "cell_type": "code",
   "execution_count": 3,
   "metadata": {
    "collapsed": false,
    "pycharm": {
     "name": "#%%\n"
    }
   },
   "outputs": [],
   "source": [
    "def define_model(TASKS):\n",
    "    model = ConcreteModel()\n",
    "\n",
    "    model.TASKS = Set(initialize = TASKS.keys(), dimen=2)\n",
    "    model.JOBS = Set(initialize = list(set([j for (j,m) in model.TASKS])))\n",
    "    model.MACHINES = Set(initialize = list(set([m for (j,m) in model.TASKS])))\n",
    "    model.TASKORDER = Set(initialize = model.TASKS * model.TASKS, dimen=4,\n",
    "        filter = lambda _, j, m, k, n: (k,n) == TASKS[(j,m)]['exists'])\n",
    "\n",
    "    model.DISJUNCTIONS = Set(initialize = model.JOBS * model.JOBS * model.MACHINES, dimen=3,\n",
    "        filter = lambda model, j, k, m: j < k and (j,m) in model.TASKS and (k,m) in model.TASKS)\n",
    "\n",
    "    model.dur = Param(model.TASKS, initialize=lambda _, j, m: TASKS[(j,m)]['dur'])\n",
    "    ub = sum([model.dur[j, m] for (j,m) in model.TASKS])\n",
    "    model.makespan = Var(bounds=(0, ub))\n",
    "    model.start = Var(model.TASKS, bounds=(0, ub))\n",
    "    model.objective = Objective(expr = model.makespan, sense = minimize)\n",
    "    model.finish = Constraint(model.TASKS, rule=lambda model, j, m:\n",
    "        model.start[j,m] + model.dur[j,m] <= model.makespan)\n",
    "\n",
    "    model.preceding = Constraint(model.TASKORDER, rule=lambda model, j, m, k, n:\n",
    "        model.start[k,n] + model.dur[k,n] <= model.start[j,m])\n",
    "\n",
    "    model.disjunctions = Disjunction(model.DISJUNCTIONS, rule=lambda model,j,k,m:\n",
    "        [model.start[j,m] + model.dur[j,m] <= model.start[k,m],\n",
    "         model.start[k,m] + model.dur[k,m] <= model.start[j,m]])\n",
    "\n",
    "    TransformationFactory('gdp.hull').apply_to(model)\n",
    "    return model"
   ]
  },
  {
   "cell_type": "markdown",
   "metadata": {},
   "source": [
    "\n",
    "\n",
    "Δημιουργώ μία λύση χρησιμοποιώντας το gurobi με τις εξής μεταβλητές:\n",
    "\n",
    "* Wallpaper: Ο αριθμός της ταπετσαρίας η οποία παράγεται\n",
    "* Machine: το μηχάνημα που χρησιμοποείται για το βήμα της παραγωγής\n",
    "* Start: Η ώρα που ξεκινάει το βήμα της παραγωγής\n",
    "* Duration: Ο χρόνος που απαιτέιται για να ολοκληρωθεί το βήμα της παραγωγής\n",
    "* Finish: Η ώρα που ολοκληρώνεται το βήμα της παραγωγής\n",
    "\n"
   ]
  },
  {
   "cell_type": "code",
   "execution_count": 4,
   "metadata": {
    "collapsed": false,
    "pycharm": {
     "name": "#%%\n"
    }
   },
   "outputs": [
    {
     "name": "stdout",
     "output_type": "stream",
     "text": [
      "Total time needed:  97\n",
      "  Wallpaper Machine  Start  Duration  Finish\n",
      "3    Wall_2   Green    0.0        10    10.0\n",
      "7    Wall_3  Yellow    0.0        28    28.0\n",
      "2    Wall_2    Blue   10.0        20    30.0\n",
      "5    Wall_3    Blue   30.0        12    42.0\n",
      "4    Wall_2  Yellow   30.0        34    64.0\n",
      "0    Wall_1    Blue   42.0        45    87.0\n",
      "6    Wall_3   Green   80.0        17    97.0\n",
      "1    Wall_1  Yellow   87.0        10    97.0\n"
     ]
    }
   ],
   "source": [
    "model = define_model(TASKS)\n",
    "SolverFactory('gurobi').solve(model)\n",
    "\n",
    "results = [{'Wallpaper': w,\n",
    "            'Machine': m,\n",
    "            'Start': model.start[w, m](),\n",
    "            'Duration': model.dur[w,m],\n",
    "            'Finish': model.start[(w, m)]() + model.dur[w,m]}\n",
    "            for w,m in model.TASKS]\n",
    "\n",
    "order = pd.DataFrame(results)\n",
    "\n",
    "print('Total time needed: ', ceil(order.Finish.max()))\n",
    "print(order.sort_values(by=['Start']))"
   ]
  }
 ],
 "metadata": {
  "interpreter": {
   "hash": "29b5865d5d0af9d1c3837ae575e5cacf9855d4c625dc60f6e4eec8d9912b0ec7"
  },
  "kernelspec": {
   "display_name": "Python 3.10.4 ('operationalResearch')",
   "language": "python",
   "name": "python3"
  },
  "language_info": {
   "codemirror_mode": {
    "name": "ipython",
    "version": 3
   },
   "file_extension": ".py",
   "mimetype": "text/x-python",
   "name": "python",
   "nbconvert_exporter": "python",
   "pygments_lexer": "ipython3",
   "version": "3.10.4"
  }
 },
 "nbformat": 4,
 "nbformat_minor": 0
}
